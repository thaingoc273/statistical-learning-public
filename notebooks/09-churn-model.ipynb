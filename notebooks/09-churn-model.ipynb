{
 "cells": [
  {
   "cell_type": "code",
   "execution_count": null,
   "metadata": {},
   "outputs": [],
   "source": [
    "import pandas as pd\n",
    "import numpy as np\n",
    "import datetime\n",
    "from sklearn.pipeline import Pipeline\n",
    "from dateutil.relativedelta import relativedelta\n",
    "import warnings\n",
    "from sklearn.linear_model import LinearRegression, LogisticRegression\n",
    "from sklearn.ensemble import RandomForestClassifier\n",
    "from sklearn.ensemble import AdaBoostClassifier, RandomForestClassifier, GradientBoostingClassifier\n",
    "from sklearn.preprocessing import StandardScaler\n",
    "from sklearn.model_selection import train_test_split\n",
    "from sklearn.metrics import accuracy_score, classification_report, confusion_matrix, f1_score\n",
    "import xgboost as xgb\n",
    "\n",
    "from sklearn.calibration import calibration_curve\n",
    "import numpy as np\n",
    "import matplotlib.pyplot as plt\n",
    "from catboost import CatBoostClassifier"
   ]
  },
  {
   "cell_type": "code",
   "execution_count": 29,
   "metadata": {},
   "outputs": [],
   "source": [
    "# Suppress the SettingWithCopyWarning\n",
    "pd.set_option('mode.chained_assignment', None)\n",
    "pd.set_option('future.no_silent_downcasting', True)\n",
    "warnings.simplefilter(action='ignore', category=FutureWarning)"
   ]
  },
  {
   "cell_type": "code",
   "execution_count": 30,
   "metadata": {},
   "outputs": [],
   "source": [
    "#Load the data from the csv file\n",
    "df = pd.read_csv('d:/code/data/data.csv', encoding='ISO-8859-1')\n",
    "df_snapshot = pd.read_csv('d:/code/data/customer_behavior_ecom_snapshot_FRM.csv')"
   ]
  },
  {
   "cell_type": "code",
   "execution_count": 31,
   "metadata": {},
   "outputs": [],
   "source": [
    "#Convert the date columns to datetime\n",
    "df['InvoiceDate'] = pd.to_datetime(df['InvoiceDate'])"
   ]
  },
  {
   "cell_type": "code",
   "execution_count": 32,
   "metadata": {},
   "outputs": [
    {
     "data": {
      "text/html": [
       "<div>\n",
       "<style scoped>\n",
       "    .dataframe tbody tr th:only-of-type {\n",
       "        vertical-align: middle;\n",
       "    }\n",
       "\n",
       "    .dataframe tbody tr th {\n",
       "        vertical-align: top;\n",
       "    }\n",
       "\n",
       "    .dataframe thead th {\n",
       "        text-align: right;\n",
       "    }\n",
       "</style>\n",
       "<table border=\"1\" class=\"dataframe\">\n",
       "  <thead>\n",
       "    <tr style=\"text-align: right;\">\n",
       "      <th></th>\n",
       "      <th>customer_id</th>\n",
       "      <th>total_successful_amount_past_5_month</th>\n",
       "      <th>num_successful_orders_past_5_month</th>\n",
       "      <th>total_successful_amount_past_4_month</th>\n",
       "      <th>num_successful_orders_past_4_month</th>\n",
       "      <th>total_successful_amount_past_3_month</th>\n",
       "      <th>num_successful_orders_past_3_month</th>\n",
       "      <th>total_successful_amount_past_2_month</th>\n",
       "      <th>num_successful_orders_past_2_month</th>\n",
       "      <th>total_successful_amount_past_1_month</th>\n",
       "      <th>...</th>\n",
       "      <th>num_successful_orders_future_1_month</th>\n",
       "      <th>total_successful_amount_future_2_month</th>\n",
       "      <th>num_successful_orders_future_2_month</th>\n",
       "      <th>time_snapshot</th>\n",
       "      <th>recency</th>\n",
       "      <th>frequency</th>\n",
       "      <th>monetary</th>\n",
       "      <th>RecencyScore</th>\n",
       "      <th>FrequencyScore</th>\n",
       "      <th>MonetaryScore</th>\n",
       "    </tr>\n",
       "  </thead>\n",
       "  <tbody>\n",
       "    <tr>\n",
       "      <th>0</th>\n",
       "      <td>12347.0</td>\n",
       "      <td>NaN</td>\n",
       "      <td>NaN</td>\n",
       "      <td>NaN</td>\n",
       "      <td>NaN</td>\n",
       "      <td>NaN</td>\n",
       "      <td>NaN</td>\n",
       "      <td>NaN</td>\n",
       "      <td>NaN</td>\n",
       "      <td>711.79</td>\n",
       "      <td>...</td>\n",
       "      <td>29.0</td>\n",
       "      <td>0.0</td>\n",
       "      <td>0.0</td>\n",
       "      <td>2011-01-01</td>\n",
       "      <td>24</td>\n",
       "      <td>31</td>\n",
       "      <td>711.79</td>\n",
       "      <td>2</td>\n",
       "      <td>4</td>\n",
       "      <td>5</td>\n",
       "    </tr>\n",
       "    <tr>\n",
       "      <th>1</th>\n",
       "      <td>12348.0</td>\n",
       "      <td>NaN</td>\n",
       "      <td>NaN</td>\n",
       "      <td>NaN</td>\n",
       "      <td>NaN</td>\n",
       "      <td>NaN</td>\n",
       "      <td>NaN</td>\n",
       "      <td>NaN</td>\n",
       "      <td>NaN</td>\n",
       "      <td>892.80</td>\n",
       "      <td>...</td>\n",
       "      <td>6.0</td>\n",
       "      <td>0.0</td>\n",
       "      <td>0.0</td>\n",
       "      <td>2011-01-01</td>\n",
       "      <td>15</td>\n",
       "      <td>17</td>\n",
       "      <td>892.80</td>\n",
       "      <td>5</td>\n",
       "      <td>3</td>\n",
       "      <td>5</td>\n",
       "    </tr>\n",
       "    <tr>\n",
       "      <th>2</th>\n",
       "      <td>12370.0</td>\n",
       "      <td>NaN</td>\n",
       "      <td>NaN</td>\n",
       "      <td>NaN</td>\n",
       "      <td>NaN</td>\n",
       "      <td>NaN</td>\n",
       "      <td>NaN</td>\n",
       "      <td>NaN</td>\n",
       "      <td>NaN</td>\n",
       "      <td>1868.02</td>\n",
       "      <td>...</td>\n",
       "      <td>0.0</td>\n",
       "      <td>0.0</td>\n",
       "      <td>0.0</td>\n",
       "      <td>2011-01-01</td>\n",
       "      <td>14</td>\n",
       "      <td>91</td>\n",
       "      <td>1868.02</td>\n",
       "      <td>5</td>\n",
       "      <td>5</td>\n",
       "      <td>5</td>\n",
       "    </tr>\n",
       "    <tr>\n",
       "      <th>3</th>\n",
       "      <td>12377.0</td>\n",
       "      <td>NaN</td>\n",
       "      <td>NaN</td>\n",
       "      <td>NaN</td>\n",
       "      <td>NaN</td>\n",
       "      <td>NaN</td>\n",
       "      <td>NaN</td>\n",
       "      <td>NaN</td>\n",
       "      <td>NaN</td>\n",
       "      <td>1001.52</td>\n",
       "      <td>...</td>\n",
       "      <td>34.0</td>\n",
       "      <td>0.0</td>\n",
       "      <td>0.0</td>\n",
       "      <td>2011-01-01</td>\n",
       "      <td>11</td>\n",
       "      <td>43</td>\n",
       "      <td>1001.52</td>\n",
       "      <td>5</td>\n",
       "      <td>4</td>\n",
       "      <td>5</td>\n",
       "    </tr>\n",
       "    <tr>\n",
       "      <th>4</th>\n",
       "      <td>12383.0</td>\n",
       "      <td>NaN</td>\n",
       "      <td>NaN</td>\n",
       "      <td>NaN</td>\n",
       "      <td>NaN</td>\n",
       "      <td>NaN</td>\n",
       "      <td>NaN</td>\n",
       "      <td>NaN</td>\n",
       "      <td>NaN</td>\n",
       "      <td>600.72</td>\n",
       "      <td>...</td>\n",
       "      <td>32.0</td>\n",
       "      <td>0.0</td>\n",
       "      <td>0.0</td>\n",
       "      <td>2011-01-01</td>\n",
       "      <td>9</td>\n",
       "      <td>37</td>\n",
       "      <td>600.72</td>\n",
       "      <td>5</td>\n",
       "      <td>4</td>\n",
       "      <td>4</td>\n",
       "    </tr>\n",
       "    <tr>\n",
       "      <th>...</th>\n",
       "      <td>...</td>\n",
       "      <td>...</td>\n",
       "      <td>...</td>\n",
       "      <td>...</td>\n",
       "      <td>...</td>\n",
       "      <td>...</td>\n",
       "      <td>...</td>\n",
       "      <td>...</td>\n",
       "      <td>...</td>\n",
       "      <td>...</td>\n",
       "      <td>...</td>\n",
       "      <td>...</td>\n",
       "      <td>...</td>\n",
       "      <td>...</td>\n",
       "      <td>...</td>\n",
       "      <td>...</td>\n",
       "      <td>...</td>\n",
       "      <td>...</td>\n",
       "      <td>...</td>\n",
       "      <td>...</td>\n",
       "      <td>...</td>\n",
       "    </tr>\n",
       "    <tr>\n",
       "      <th>37431</th>\n",
       "      <td>14349.0</td>\n",
       "      <td>NaN</td>\n",
       "      <td>NaN</td>\n",
       "      <td>NaN</td>\n",
       "      <td>NaN</td>\n",
       "      <td>NaN</td>\n",
       "      <td>NaN</td>\n",
       "      <td>133.50</td>\n",
       "      <td>31.0</td>\n",
       "      <td>0.00</td>\n",
       "      <td>...</td>\n",
       "      <td>NaN</td>\n",
       "      <td>NaN</td>\n",
       "      <td>NaN</td>\n",
       "      <td>2012-01-01</td>\n",
       "      <td>32</td>\n",
       "      <td>31</td>\n",
       "      <td>133.50</td>\n",
       "      <td>5</td>\n",
       "      <td>3</td>\n",
       "      <td>1</td>\n",
       "    </tr>\n",
       "    <tr>\n",
       "      <th>37432</th>\n",
       "      <td>18058.0</td>\n",
       "      <td>NaN</td>\n",
       "      <td>NaN</td>\n",
       "      <td>NaN</td>\n",
       "      <td>NaN</td>\n",
       "      <td>NaN</td>\n",
       "      <td>NaN</td>\n",
       "      <td>170.16</td>\n",
       "      <td>3.0</td>\n",
       "      <td>0.00</td>\n",
       "      <td>...</td>\n",
       "      <td>NaN</td>\n",
       "      <td>NaN</td>\n",
       "      <td>NaN</td>\n",
       "      <td>2012-01-01</td>\n",
       "      <td>31</td>\n",
       "      <td>3</td>\n",
       "      <td>170.16</td>\n",
       "      <td>5</td>\n",
       "      <td>1</td>\n",
       "      <td>1</td>\n",
       "    </tr>\n",
       "    <tr>\n",
       "      <th>37433</th>\n",
       "      <td>12953.0</td>\n",
       "      <td>NaN</td>\n",
       "      <td>NaN</td>\n",
       "      <td>NaN</td>\n",
       "      <td>NaN</td>\n",
       "      <td>NaN</td>\n",
       "      <td>NaN</td>\n",
       "      <td>329.85</td>\n",
       "      <td>17.0</td>\n",
       "      <td>0.00</td>\n",
       "      <td>...</td>\n",
       "      <td>NaN</td>\n",
       "      <td>NaN</td>\n",
       "      <td>NaN</td>\n",
       "      <td>2012-01-01</td>\n",
       "      <td>31</td>\n",
       "      <td>17</td>\n",
       "      <td>329.85</td>\n",
       "      <td>5</td>\n",
       "      <td>2</td>\n",
       "      <td>2</td>\n",
       "    </tr>\n",
       "    <tr>\n",
       "      <th>37434</th>\n",
       "      <td>12966.0</td>\n",
       "      <td>NaN</td>\n",
       "      <td>NaN</td>\n",
       "      <td>NaN</td>\n",
       "      <td>NaN</td>\n",
       "      <td>NaN</td>\n",
       "      <td>NaN</td>\n",
       "      <td>160.18</td>\n",
       "      <td>10.0</td>\n",
       "      <td>0.00</td>\n",
       "      <td>...</td>\n",
       "      <td>NaN</td>\n",
       "      <td>NaN</td>\n",
       "      <td>NaN</td>\n",
       "      <td>2012-01-01</td>\n",
       "      <td>31</td>\n",
       "      <td>10</td>\n",
       "      <td>160.18</td>\n",
       "      <td>5</td>\n",
       "      <td>1</td>\n",
       "      <td>1</td>\n",
       "    </tr>\n",
       "    <tr>\n",
       "      <th>37435</th>\n",
       "      <td>17911.0</td>\n",
       "      <td>NaN</td>\n",
       "      <td>NaN</td>\n",
       "      <td>NaN</td>\n",
       "      <td>NaN</td>\n",
       "      <td>NaN</td>\n",
       "      <td>NaN</td>\n",
       "      <td>366.23</td>\n",
       "      <td>39.0</td>\n",
       "      <td>0.00</td>\n",
       "      <td>...</td>\n",
       "      <td>NaN</td>\n",
       "      <td>NaN</td>\n",
       "      <td>NaN</td>\n",
       "      <td>2012-01-01</td>\n",
       "      <td>31</td>\n",
       "      <td>39</td>\n",
       "      <td>366.23</td>\n",
       "      <td>5</td>\n",
       "      <td>3</td>\n",
       "      <td>2</td>\n",
       "    </tr>\n",
       "  </tbody>\n",
       "</table>\n",
       "<p>37436 rows × 22 columns</p>\n",
       "</div>"
      ],
      "text/plain": [
       "       customer_id  total_successful_amount_past_5_month  \\\n",
       "0          12347.0                                   NaN   \n",
       "1          12348.0                                   NaN   \n",
       "2          12370.0                                   NaN   \n",
       "3          12377.0                                   NaN   \n",
       "4          12383.0                                   NaN   \n",
       "...            ...                                   ...   \n",
       "37431      14349.0                                   NaN   \n",
       "37432      18058.0                                   NaN   \n",
       "37433      12953.0                                   NaN   \n",
       "37434      12966.0                                   NaN   \n",
       "37435      17911.0                                   NaN   \n",
       "\n",
       "       num_successful_orders_past_5_month  \\\n",
       "0                                     NaN   \n",
       "1                                     NaN   \n",
       "2                                     NaN   \n",
       "3                                     NaN   \n",
       "4                                     NaN   \n",
       "...                                   ...   \n",
       "37431                                 NaN   \n",
       "37432                                 NaN   \n",
       "37433                                 NaN   \n",
       "37434                                 NaN   \n",
       "37435                                 NaN   \n",
       "\n",
       "       total_successful_amount_past_4_month  \\\n",
       "0                                       NaN   \n",
       "1                                       NaN   \n",
       "2                                       NaN   \n",
       "3                                       NaN   \n",
       "4                                       NaN   \n",
       "...                                     ...   \n",
       "37431                                   NaN   \n",
       "37432                                   NaN   \n",
       "37433                                   NaN   \n",
       "37434                                   NaN   \n",
       "37435                                   NaN   \n",
       "\n",
       "       num_successful_orders_past_4_month  \\\n",
       "0                                     NaN   \n",
       "1                                     NaN   \n",
       "2                                     NaN   \n",
       "3                                     NaN   \n",
       "4                                     NaN   \n",
       "...                                   ...   \n",
       "37431                                 NaN   \n",
       "37432                                 NaN   \n",
       "37433                                 NaN   \n",
       "37434                                 NaN   \n",
       "37435                                 NaN   \n",
       "\n",
       "       total_successful_amount_past_3_month  \\\n",
       "0                                       NaN   \n",
       "1                                       NaN   \n",
       "2                                       NaN   \n",
       "3                                       NaN   \n",
       "4                                       NaN   \n",
       "...                                     ...   \n",
       "37431                                   NaN   \n",
       "37432                                   NaN   \n",
       "37433                                   NaN   \n",
       "37434                                   NaN   \n",
       "37435                                   NaN   \n",
       "\n",
       "       num_successful_orders_past_3_month  \\\n",
       "0                                     NaN   \n",
       "1                                     NaN   \n",
       "2                                     NaN   \n",
       "3                                     NaN   \n",
       "4                                     NaN   \n",
       "...                                   ...   \n",
       "37431                                 NaN   \n",
       "37432                                 NaN   \n",
       "37433                                 NaN   \n",
       "37434                                 NaN   \n",
       "37435                                 NaN   \n",
       "\n",
       "       total_successful_amount_past_2_month  \\\n",
       "0                                       NaN   \n",
       "1                                       NaN   \n",
       "2                                       NaN   \n",
       "3                                       NaN   \n",
       "4                                       NaN   \n",
       "...                                     ...   \n",
       "37431                                133.50   \n",
       "37432                                170.16   \n",
       "37433                                329.85   \n",
       "37434                                160.18   \n",
       "37435                                366.23   \n",
       "\n",
       "       num_successful_orders_past_2_month  \\\n",
       "0                                     NaN   \n",
       "1                                     NaN   \n",
       "2                                     NaN   \n",
       "3                                     NaN   \n",
       "4                                     NaN   \n",
       "...                                   ...   \n",
       "37431                                31.0   \n",
       "37432                                 3.0   \n",
       "37433                                17.0   \n",
       "37434                                10.0   \n",
       "37435                                39.0   \n",
       "\n",
       "       total_successful_amount_past_1_month  ...  \\\n",
       "0                                    711.79  ...   \n",
       "1                                    892.80  ...   \n",
       "2                                   1868.02  ...   \n",
       "3                                   1001.52  ...   \n",
       "4                                    600.72  ...   \n",
       "...                                     ...  ...   \n",
       "37431                                  0.00  ...   \n",
       "37432                                  0.00  ...   \n",
       "37433                                  0.00  ...   \n",
       "37434                                  0.00  ...   \n",
       "37435                                  0.00  ...   \n",
       "\n",
       "       num_successful_orders_future_1_month  \\\n",
       "0                                      29.0   \n",
       "1                                       6.0   \n",
       "2                                       0.0   \n",
       "3                                      34.0   \n",
       "4                                      32.0   \n",
       "...                                     ...   \n",
       "37431                                   NaN   \n",
       "37432                                   NaN   \n",
       "37433                                   NaN   \n",
       "37434                                   NaN   \n",
       "37435                                   NaN   \n",
       "\n",
       "       total_successful_amount_future_2_month  \\\n",
       "0                                         0.0   \n",
       "1                                         0.0   \n",
       "2                                         0.0   \n",
       "3                                         0.0   \n",
       "4                                         0.0   \n",
       "...                                       ...   \n",
       "37431                                     NaN   \n",
       "37432                                     NaN   \n",
       "37433                                     NaN   \n",
       "37434                                     NaN   \n",
       "37435                                     NaN   \n",
       "\n",
       "       num_successful_orders_future_2_month  time_snapshot  recency frequency  \\\n",
       "0                                       0.0     2011-01-01       24        31   \n",
       "1                                       0.0     2011-01-01       15        17   \n",
       "2                                       0.0     2011-01-01       14        91   \n",
       "3                                       0.0     2011-01-01       11        43   \n",
       "4                                       0.0     2011-01-01        9        37   \n",
       "...                                     ...            ...      ...       ...   \n",
       "37431                                   NaN     2012-01-01       32        31   \n",
       "37432                                   NaN     2012-01-01       31         3   \n",
       "37433                                   NaN     2012-01-01       31        17   \n",
       "37434                                   NaN     2012-01-01       31        10   \n",
       "37435                                   NaN     2012-01-01       31        39   \n",
       "\n",
       "       monetary  RecencyScore  FrequencyScore  MonetaryScore  \n",
       "0        711.79             2               4              5  \n",
       "1        892.80             5               3              5  \n",
       "2       1868.02             5               5              5  \n",
       "3       1001.52             5               4              5  \n",
       "4        600.72             5               4              4  \n",
       "...         ...           ...             ...            ...  \n",
       "37431    133.50             5               3              1  \n",
       "37432    170.16             5               1              1  \n",
       "37433    329.85             5               2              2  \n",
       "37434    160.18             5               1              1  \n",
       "37435    366.23             5               3              2  \n",
       "\n",
       "[37436 rows x 22 columns]"
      ]
     },
     "execution_count": 32,
     "metadata": {},
     "output_type": "execute_result"
    }
   ],
   "source": [
    "df_snapshot"
   ]
  },
  {
   "cell_type": "code",
   "execution_count": 33,
   "metadata": {},
   "outputs": [],
   "source": [
    "df_snapshot_truncate = df_snapshot[(df_snapshot.time_snapshot<='2011-12-1')]"
   ]
  },
  {
   "cell_type": "code",
   "execution_count": 34,
   "metadata": {},
   "outputs": [
    {
     "name": "stdout",
     "output_type": "stream",
     "text": [
      "<class 'pandas.core.frame.DataFrame'>\n",
      "Index: 33064 entries, 0 to 33063\n",
      "Data columns (total 22 columns):\n",
      " #   Column                                  Non-Null Count  Dtype  \n",
      "---  ------                                  --------------  -----  \n",
      " 0   customer_id                             33064 non-null  float64\n",
      " 1   total_successful_amount_past_5_month    17705 non-null  float64\n",
      " 2   num_successful_orders_past_5_month      17705 non-null  float64\n",
      " 3   total_successful_amount_past_4_month    21065 non-null  float64\n",
      " 4   num_successful_orders_past_4_month      21065 non-null  float64\n",
      " 5   total_successful_amount_past_3_month    24723 non-null  float64\n",
      " 6   num_successful_orders_past_3_month      24723 non-null  float64\n",
      " 7   total_successful_amount_past_2_month    28733 non-null  float64\n",
      " 8   num_successful_orders_past_2_month      28733 non-null  float64\n",
      " 9   total_successful_amount_past_1_month    33064 non-null  float64\n",
      " 10  num_successful_orders_past_1_month      33064 non-null  int64  \n",
      " 11  total_successful_amount_future_1_month  33064 non-null  float64\n",
      " 12  num_successful_orders_future_1_month    33064 non-null  float64\n",
      " 13  total_successful_amount_future_2_month  28733 non-null  float64\n",
      " 14  num_successful_orders_future_2_month    28733 non-null  float64\n",
      " 15  time_snapshot                           33064 non-null  object \n",
      " 16  recency                                 33064 non-null  int64  \n",
      " 17  frequency                               33064 non-null  int64  \n",
      " 18  monetary                                33064 non-null  float64\n",
      " 19  RecencyScore                            33064 non-null  int64  \n",
      " 20  FrequencyScore                          33064 non-null  int64  \n",
      " 21  MonetaryScore                           33064 non-null  int64  \n",
      "dtypes: float64(15), int64(6), object(1)\n",
      "memory usage: 5.8+ MB\n"
     ]
    }
   ],
   "source": [
    "df_snapshot_truncate.info()"
   ]
  },
  {
   "cell_type": "code",
   "execution_count": 35,
   "metadata": {},
   "outputs": [],
   "source": [
    "df_snapshot_truncate['is_churn_future_1_month'] = df_snapshot_truncate.num_successful_orders_future_1_month==0"
   ]
  },
  {
   "cell_type": "code",
   "execution_count": 36,
   "metadata": {},
   "outputs": [
    {
     "data": {
      "text/plain": [
       "is_churn_future_1_month\n",
       "True     0.718637\n",
       "False    0.281363\n",
       "Name: proportion, dtype: float64"
      ]
     },
     "execution_count": 36,
     "metadata": {},
     "output_type": "execute_result"
    }
   ],
   "source": [
    "df_snapshot_truncate.is_churn_future_1_month.value_counts(normalize=True)"
   ]
  },
  {
   "cell_type": "code",
   "execution_count": 37,
   "metadata": {},
   "outputs": [
    {
     "name": "stdout",
     "output_type": "stream",
     "text": [
      "customer_id                               0.019137\n",
      "total_successful_amount_past_5_month     -0.161218\n",
      "num_successful_orders_past_5_month       -0.198524\n",
      "total_successful_amount_past_4_month     -0.157037\n",
      "num_successful_orders_past_4_month       -0.197525\n",
      "total_successful_amount_past_3_month     -0.147537\n",
      "num_successful_orders_past_3_month       -0.195385\n",
      "total_successful_amount_past_2_month     -0.148248\n",
      "num_successful_orders_past_2_month       -0.185675\n",
      "total_successful_amount_past_1_month     -0.146039\n",
      "num_successful_orders_past_1_month       -0.157240\n",
      "total_successful_amount_future_1_month   -0.278118\n",
      "num_successful_orders_future_1_month     -0.418817\n",
      "total_successful_amount_future_2_month   -0.136486\n",
      "num_successful_orders_future_2_month     -0.146867\n",
      "recency                                   0.231808\n",
      "frequency                                -0.210438\n",
      "monetary                                 -0.166218\n",
      "RecencyScore                             -0.253279\n",
      "FrequencyScore                           -0.288330\n",
      "MonetaryScore                            -0.328083\n",
      "Name: is_churn_future_1_month, dtype: float64\n"
     ]
    }
   ],
   "source": [
    "numeric_df = df_snapshot_truncate.select_dtypes(include=['number', 'bool'])\n",
    "# Choose a target column for correlation\n",
    "target_column = 'is_churn_future_1_month'\n",
    "\n",
    "# Compute correlation with other numeric columns\n",
    "correlations = numeric_df.corr()[target_column].drop(target_column)\n",
    "\n",
    "# Print result\n",
    "print(correlations)"
   ]
  },
  {
   "cell_type": "code",
   "execution_count": 38,
   "metadata": {},
   "outputs": [],
   "source": [
    "time_split = '2011-11-01'\n",
    "df_train = df_snapshot_truncate[df_snapshot_truncate.time_snapshot<time_split]\n",
    "df_test = df_snapshot_truncate[df_snapshot_truncate.time_snapshot>=time_split]"
   ]
  },
  {
   "cell_type": "code",
   "execution_count": 39,
   "metadata": {},
   "outputs": [
    {
     "data": {
      "text/plain": [
       "((24723, 23), (8341, 23))"
      ]
     },
     "execution_count": 39,
     "metadata": {},
     "output_type": "execute_result"
    }
   ],
   "source": [
    "df_train.shape, df_test.shape"
   ]
  },
  {
   "cell_type": "code",
   "execution_count": 40,
   "metadata": {},
   "outputs": [
    {
     "data": {
      "text/plain": [
       "(is_churn_future_1_month\n",
       " True     0.706023\n",
       " False    0.293977\n",
       " Name: proportion, dtype: float64,\n",
       " is_churn_future_1_month\n",
       " True     0.756024\n",
       " False    0.243976\n",
       " Name: proportion, dtype: float64)"
      ]
     },
     "execution_count": 40,
     "metadata": {},
     "output_type": "execute_result"
    }
   ],
   "source": [
    "df_train.is_churn_future_1_month.value_counts(normalize=True), df_test.is_churn_future_1_month.value_counts(normalize=True)"
   ]
  },
  {
   "cell_type": "code",
   "execution_count": 41,
   "metadata": {},
   "outputs": [],
   "source": [
    "features = ['customer_id', \n",
    "            #'total_successful_amount_past_5_month', 'num_successful_orders_past_5_month',\n",
    "            #'total_successful_amount_past_4_month', 'num_successful_orders_past_4_month',\n",
    "            'total_successful_amount_past_3_month', 'num_successful_orders_past_3_month', \n",
    "            'total_successful_amount_past_2_month', 'num_successful_orders_past_2_month',\n",
    "            'total_successful_amount_past_1_month', 'num_successful_orders_past_1_month',\n",
    "            'recency', 'frequency', 'monetary', 'FrequencyScore', 'MonetaryScore', 'RecencyScore']\n",
    "target = 'is_churn_future_1_month'\n",
    "X_train = df_train[features].fillna(0)\n",
    "y_train = df_train[target]\n",
    "X_test = df_test[features].fillna(0)\n",
    "y_test = df_test[target]"
   ]
  },
  {
   "cell_type": "code",
   "execution_count": 42,
   "metadata": {},
   "outputs": [
    {
     "name": "stdout",
     "output_type": "stream",
     "text": [
      "Model Accuracy: 0.760\n",
      "Model F1 Score: 0.847\n"
     ]
    }
   ],
   "source": [
    "# Standardize the features (important for Logistic Regression)\n",
    "scaler = StandardScaler()\n",
    "X_train = scaler.fit_transform(X_train)\n",
    "X_test = scaler.transform(X_test)\n",
    "\n",
    "# Initialize and train Logistic Regression model\n",
    "model = model = xgb.XGBClassifier(objective='binary:logistic', eval_metric='logloss', use_label_encoder=False)\n",
    "model.fit(X_train, y_train)\n",
    "\n",
    "# Make predictions\n",
    "y_pred = model.predict(X_test)\n",
    "\n",
    "# Model evaluation\n",
    "accuracy = accuracy_score(y_test, y_pred)\n",
    "print(f\"Model Accuracy: {accuracy:.3f}\")\n",
    "\n",
    "f1_score_value = f1_score(y_test, y_pred)\n",
    "print(f\"Model F1 Score: {f1_score_value:.3f}\")\n"
   ]
  },
  {
   "cell_type": "code",
   "execution_count": 43,
   "metadata": {},
   "outputs": [
    {
     "name": "stdout",
     "output_type": "stream",
     "text": [
      "Train Accuracy: 0.746\n",
      "Model Accuracy: 0.767\n",
      "Model F1 Score: 0.853\n"
     ]
    }
   ],
   "source": [
    "# Standardize the features (important for Logistic Regression)\n",
    "scaler = StandardScaler()\n",
    "X_train = scaler.fit_transform(X_train)\n",
    "X_test = scaler.transform(X_test)\n",
    "\n",
    "# Initialize and train Logistic Regression model\n",
    "model = LogisticRegression()\n",
    "\n",
    "model.fit(X_train, y_train)\n",
    "\n",
    "y_pred_train = model.predict(X_train)\n",
    "print(f\"Train Accuracy: {accuracy_score(y_train, y_pred_train):.3f}\")\n",
    "\n",
    "# Make predictions\n",
    "y_pred = model.predict(X_test)\n",
    "\n",
    "# Model evaluation\n",
    "accuracy = accuracy_score(y_test, y_pred)\n",
    "print(f\"Model Accuracy: {accuracy:.3f}\")\n",
    "\n",
    "f1_score_value = f1_score(y_test, y_pred)\n",
    "print(f\"Model F1 Score: {f1_score_value:.3f}\")\n"
   ]
  },
  {
   "cell_type": "code",
   "execution_count": 44,
   "metadata": {},
   "outputs": [
    {
     "name": "stdout",
     "output_type": "stream",
     "text": [
      "Model Accuracy: 0.758\n",
      "Model F1 Score: 0.845\n"
     ]
    }
   ],
   "source": [
    "# Standardize the features (important for Logistic Regression)\n",
    "scaler = StandardScaler()\n",
    "X_train = scaler.fit_transform(X_train)\n",
    "X_test = scaler.transform(X_test)\n",
    "\n",
    "# Initialize and train Logistic Regression model\n",
    "model = RandomForestClassifier()\n",
    "model.fit(X_train, y_train)\n",
    "\n",
    "# Make predictions\n",
    "y_pred = model.predict(X_test)\n",
    "\n",
    "# Model evaluation\n",
    "accuracy = accuracy_score(y_test, y_pred)\n",
    "print(f\"Model Accuracy: {accuracy:.3f}\")\n",
    "\n",
    "f1_score_value = f1_score(y_test, y_pred)\n",
    "print(f\"Model F1 Score: {f1_score_value:.3f}\")"
   ]
  },
  {
   "cell_type": "code",
   "execution_count": 51,
   "metadata": {},
   "outputs": [
    {
     "name": "stdout",
     "output_type": "stream",
     "text": [
      "Model Accuracy: 0.769\n",
      "Model F1 Score: 0.854\n"
     ]
    }
   ],
   "source": [
    "# Standardize the features (important for Logistic Regression)\n",
    "scaler = StandardScaler()\n",
    "X_train = scaler.fit_transform(X_train)\n",
    "X_test = scaler.transform(X_test)\n",
    "\n",
    "# Initialize and train Logistic Regression model\n",
    "model = AdaBoostClassifier()\n",
    "model.fit(X_train, y_train)\n",
    "\n",
    "# Make predictions\n",
    "y_pred = model.predict(X_test)\n",
    "\n",
    "# Model evaluation\n",
    "accuracy = accuracy_score(y_test, y_pred)\n",
    "print(f\"Model Accuracy: {accuracy:.3f}\")\n",
    "\n",
    "f1_score_value = f1_score(y_test, y_pred)\n",
    "print(f\"Model F1 Score: {f1_score_value:.3f}\")"
   ]
  },
  {
   "cell_type": "code",
   "execution_count": 81,
   "metadata": {},
   "outputs": [
    {
     "name": "stdout",
     "output_type": "stream",
     "text": [
      "0:\tlearn: 0.6928084\ttotal: 4.61ms\tremaining: 4.61s\n",
      "100:\tlearn: 0.6620626\ttotal: 453ms\tremaining: 4.03s\n",
      "200:\tlearn: 0.6371720\ttotal: 898ms\tremaining: 3.57s\n",
      "300:\tlearn: 0.6169930\ttotal: 1.34s\tremaining: 3.12s\n",
      "400:\tlearn: 0.6005616\ttotal: 1.81s\tremaining: 2.7s\n",
      "500:\tlearn: 0.5871549\ttotal: 2.25s\tremaining: 2.24s\n",
      "600:\tlearn: 0.5761767\ttotal: 2.69s\tremaining: 1.79s\n",
      "700:\tlearn: 0.5672123\ttotal: 3.13s\tremaining: 1.34s\n",
      "800:\tlearn: 0.5598644\ttotal: 3.61s\tremaining: 898ms\n",
      "900:\tlearn: 0.5538384\ttotal: 4.07s\tremaining: 447ms\n",
      "999:\tlearn: 0.5488549\ttotal: 4.5s\tremaining: 0us\n",
      "Model Accuracy: 0.779\n",
      "Model F1 Score: 0.863\n"
     ]
    }
   ],
   "source": [
    "# Standardize the features (important for Logistic Regression)\n",
    "scaler = StandardScaler()\n",
    "X_train = scaler.fit_transform(X_train)\n",
    "X_test = scaler.transform(X_test)\n",
    "\n",
    "# Initialize and train Logistic Regression model\n",
    "model = CatBoostClassifier(iterations=1000, \n",
    "                                    learning_rate=0.001, \n",
    "                                    depth=4, \n",
    "                                    loss_function='Logloss', \n",
    "                                    verbose=100)\n",
    "model.fit(X_train, y_train)\n",
    "\n",
    "# Make predictions\n",
    "y_pred = model.predict_proba(X_test)[:,1]\n",
    "y_pred = y_pred>=0.5\n",
    "# Model evaluation\n",
    "accuracy = accuracy_score(y_test, y_pred)\n",
    "print(f\"Model Accuracy: {accuracy:.3f}\")\n",
    "\n",
    "f1_score_value = f1_score(y_test, y_pred)\n",
    "print(f\"Model F1 Score: {f1_score_value:.3f}\")"
   ]
  },
  {
   "cell_type": "code",
   "execution_count": 70,
   "metadata": {},
   "outputs": [
    {
     "data": {
      "text/plain": [
       "array(['True', 'True', 'True', ..., 'True', 'True', 'True'], dtype=object)"
      ]
     },
     "execution_count": 70,
     "metadata": {},
     "output_type": "execute_result"
    }
   ],
   "source": [
    "y_pred"
   ]
  },
  {
   "cell_type": "code",
   "execution_count": 88,
   "metadata": {},
   "outputs": [
    {
     "data": {
      "image/png": "[encoded data removed]",
      "text/plain": [
       "<Figure size 432x432 with 1 Axes>"
      ]
     },
     "metadata": {
      "needs_background": "light"
     },
     "output_type": "display_data"
    }
   ],
   "source": [
    "# Initialize and train Logistic Regression model\n",
    "# model = CatBoostClassifier(iterations=1000, \n",
    "#                                     learning_rate=0.001, \n",
    "#                                     depth=4, \n",
    "#                                     loss_function='Logloss', \n",
    "#                                     verbose=100)\n",
    "model = LogisticRegression()\n",
    "model.fit(X_train, y_train)\n",
    "\n",
    "# Make predictions\n",
    "y_pred = model.predict_proba(X_test)[:,1]\n",
    "\n",
    "# Compute calibration curve\n",
    "fraction_of_positives, mean_predicted_value = calibration_curve(y_test, y_pred, n_bins=20)\n",
    "\n",
    "# Plot calibration curve\n",
    "plt.figure(figsize=(6, 6))\n",
    "plt.plot(mean_predicted_value, fraction_of_positives, \"s-\", label=\"Model Calibration\")\n",
    "plt.plot([0, 1], [0, 1], \"--\", label=\"Perfect Calibration\")\n",
    "plt.xlabel(\"Mean Predicted Probability\")\n",
    "plt.ylabel(\"Fraction of Positives\")\n",
    "plt.title(\"Calibration Curve\")\n",
    "plt.legend()\n",
    "plt.show()"
   ]
  },
  {
   "cell_type": "code",
   "execution_count": 89,
   "metadata": {},
   "outputs": [
    {
     "data": {
      "text/plain": [
       "(array([  92.,  105.,  170.,  358.,  603.,  675., 1123., 1455., 1806.,\n",
       "        1954.]),\n",
       " array([1.96004247e-14, 9.67743207e-02, 1.93548641e-01, 2.90322962e-01,\n",
       "        3.87097283e-01, 4.83871604e-01, 5.80645924e-01, 6.77420245e-01,\n",
       "        7.74194566e-01, 8.70968887e-01, 9.67743207e-01]),\n",
       " <BarContainer object of 10 artists>)"
      ]
     },
     "execution_count": 89,
     "metadata": {},
     "output_type": "execute_result"
    },
    {
     "data": {
      "image/png": "[encoded data removed]",
      "text/plain": [
       "<Figure size 432x288 with 1 Axes>"
      ]
     },
     "metadata": {
      "needs_background": "light"
     },
     "output_type": "display_data"
    }
   ],
   "source": [
    "plt.hist(y_pred)"
   ]
  },
  {
   "cell_type": "code",
   "execution_count": 58,
   "metadata": {},
   "outputs": [
    {
     "data": {
      "text/plain": [
       "array([0.50258129, 0.50010399, 0.50108603, ..., 0.50535414, 0.5045878 ,\n",
       "       0.50675012])"
      ]
     },
     "execution_count": 58,
     "metadata": {},
     "output_type": "execute_result"
    }
   ],
   "source": [
    "y_pred = model.predict_proba(X_test)\n",
    "y_pred[:,1]"
   ]
  },
  {
   "cell_type": "code",
   "execution_count": 46,
   "metadata": {},
   "outputs": [
    {
     "data": {
      "text/plain": [
       "array([0. , 0.5, 1. ])"
      ]
     },
     "execution_count": 46,
     "metadata": {},
     "output_type": "execute_result"
    }
   ],
   "source": [
    "import numpy as np\n",
    "bins = np.linspace(0.0, 1.0, 2 + 1)\n",
    "bins"
   ]
  },
  {
   "cell_type": "code",
   "execution_count": 47,
   "metadata": {},
   "outputs": [
    {
     "data": {
      "text/plain": [
       "(array([0. , 0. , 0. , 0. , 0.5, 1. ]),\n",
       " array([0.1 , 0.25, 0.4 , 0.65, 0.75, 0.95]))"
      ]
     },
     "execution_count": 47,
     "metadata": {},
     "output_type": "execute_result"
    }
   ],
   "source": [
    "import numpy as np\n",
    "from sklearn.calibration import calibration_curve\n",
    "y_true = np.array([0, 0, 0, 0, 0, 0, 1, 1, 1])\n",
    "y_pred = np.array([0.1, 0.2, 0.3, 0.4, 0.65, 0.7, 0.8, 0.9,  1.])\n",
    "prob_true, prob_pred = calibration_curve(y_true, y_pred, n_bins=6)\n",
    "prob_true, prob_pred"
   ]
  },
  {
   "cell_type": "code",
   "execution_count": null,
   "metadata": {},
   "outputs": [],
   "source": []
  },
  {
   "cell_type": "code",
   "execution_count": 48,
   "metadata": {},
   "outputs": [
    {
     "data": {
      "text/plain": [
       "array([0, 0, 0, 1, 1, 2, 2, 2, 2], dtype=int64)"
      ]
     },
     "execution_count": 48,
     "metadata": {},
     "output_type": "execute_result"
    }
   ],
   "source": [
    "bins = np.linspace(0.0, 1.0, 3 + 1)\n",
    "binids = np.searchsorted(bins[1:-1], y_pred)\n",
    "binids"
   ]
  },
  {
   "cell_type": "code",
   "execution_count": 49,
   "metadata": {},
   "outputs": [
    {
     "data": {
      "text/plain": [
       "(array([ True,  True,  True, False]),\n",
       " array([0.6 , 1.05, 3.4 , 0.  ]),\n",
       " array([0., 0., 3., 0.]),\n",
       " array([3, 2, 4, 0], dtype=int64),\n",
       " array([0.  , 0.  , 0.75]),\n",
       " array([0.2  , 0.525, 0.85 ]))"
      ]
     },
     "execution_count": 49,
     "metadata": {},
     "output_type": "execute_result"
    }
   ],
   "source": [
    "bin_sums = np.bincount(binids, weights=y_pred, minlength=len(bins))\n",
    "bin_true = np.bincount(binids, weights=y_true, minlength=len(bins))\n",
    "bin_total = np.bincount(binids, minlength=len(bins))\n",
    "\n",
    "nonzero = bin_total != 0\n",
    "prob_true = bin_true[nonzero] / bin_total[nonzero]\n",
    "prob_pred = bin_sums[nonzero] / bin_total[nonzero]\n",
    "nonzero,bin_sums, bin_true, bin_total, prob_true, prob_pred"
   ]
  }
 ],
 "metadata": {
  "kernelspec": {
   "display_name": "base",
   "language": "python",
   "name": "python3"
  },
  "language_info": {
   "codemirror_mode": {
    "name": "ipython",
    "version": 3
   },
   "file_extension": ".py",
   "mimetype": "text/x-python",
   "name": "python",
   "nbconvert_exporter": "python",
   "pygments_lexer": "ipython3",
   "version": "3.9.12"
  }
 },
 "nbformat": 4,
 "nbformat_minor": 2
}
