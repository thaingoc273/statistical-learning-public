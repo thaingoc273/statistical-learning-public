{
 "cells": [
  {
   "cell_type": "code",
   "execution_count": 3,
   "metadata": {},
   "outputs": [],
   "source": [
    "import pandas as pd\n",
    "import numpy as np\n",
    "import matplotlib.pyplot as plt\n",
    "import seaborn as sns \n",
    "import os\n",
    "import datetime\n",
    "from sklearn.pipeline import Pipeline\n",
    "from dateutil.relativedelta import relativedelta\n",
    "import warnings"
   ]
  },
  {
   "cell_type": "code",
   "execution_count": 4,
   "metadata": {},
   "outputs": [],
   "source": [
    "df = pd.read_csv('d:/code/data/data.csv', encoding='ISO-8859-1')"
   ]
  },
  {
   "cell_type": "code",
   "execution_count": 5,
   "metadata": {},
   "outputs": [],
   "source": [
    "df['InvoiceDate'] = pd.to_datetime(df['InvoiceDate'])"
   ]
  },
  {
   "cell_type": "code",
   "execution_count": 6,
   "metadata": {},
   "outputs": [],
   "source": [
    "# Suppress the SettingWithCopyWarning\n",
    "pd.set_option('mode.chained_assignment', None)\n",
    "pd.set_option('future.no_silent_downcasting', True)\n",
    "warnings.simplefilter(action='ignore', category=FutureWarning)"
   ]
  },
  {
   "cell_type": "code",
   "execution_count": 75,
   "metadata": {},
   "outputs": [
    {
     "data": {},
     "execution_count": 75,
     "metadata": {},
     "output_type": "execute_result"
    }
   ],
   "source": [
    "df.InvoiceDate.min(), df.InvoiceDate.max()"
   ]
  },
  {
   "cell_type": "markdown",
   "metadata": {},
   "source": [
    "# Function for one month duration snapshot"
   ]
  },
  {
   "cell_type": "code",
   "execution_count": 33,
   "metadata": {},
   "outputs": [],
   "source": [
    "# Function to get the snapshot of the data at a given time in the past, the time_shot of the snapshot is one month\n",
    "## Input\n",
    "##      df: the original data\n",
    "##      time_snapshot: the time of the snapshot\n",
    "##      time_shot: the time_shot of the snapshot (1 month ago, 2 months ago, 3 months ago, etc.)\n",
    "## Output\n",
    "##      df_snapshot: the snapshot of the data at the given time in the past. The duration of the snapshot is one month\n",
    "##                    The snapshot includes the total amount of successful orders and the number of successful orders for each customer \n",
    "\n",
    "def snap_shot_month(df: pd.DataFrame, time_snapshot: datetime.datetime, time_shot: int = 1) -> pd.DataFrame:\n",
    "\n",
    "    # Get list of unique customers until the time_snapshot\n",
    "    customers = df[df['InvoiceDate'] < time_snapshot]['CustomerID'].unique()\n",
    "    \n",
    "    # Filter the data to get the snapshot of one month\n",
    "    df_filter = df[(df['InvoiceDate'] >= time_snapshot - relativedelta(months=time_shot)) & (df['InvoiceDate'] <= time_snapshot- relativedelta(months=time_shot-1))]\n",
    "\n",
    "    # Create a new column to store the total amount of each transaction\n",
    "    df_filter['total_amount'] = df_filter['Quantity'] * df_filter['UnitPrice']  \n",
    "\n",
    "    # Create a new Dataframe to store the snapshot of the data  \n",
    "    df_snapshot = pd.DataFrame(columns=['customer_id', 'total_successful_amount_past_1_month', 'num_successful_orders_past_1_month'])\n",
    "\n",
    "    df_filter_agg = df_filter.groupby(['CustomerID']).agg({'total_amount': 'sum', 'InvoiceDate': 'count'}).reset_index()\n",
    "    df_filter_agg.rename(columns={'CustomerID':'customer_id', 'InvoiceDate': f'num_successful_orders_past_{time_shot}_month', 'total_amount': f'total_successful_amount_past_{time_shot}_month'}, inplace=True)\n",
    "    df_snapshot = pd.concat([df_snapshot, df_filter_agg], ignore_index=True) if df_snapshot.shape[0] > 0 else df_filter_agg\n",
    " \n",
    "    \n",
    "    # Add the time_snapshot to the snapshot dataframe\n",
    "    df_snapshot['time_snapshot'] = time_snapshot\n",
    "    \n",
    "    # Drop the rows with missing values (customer_id)\n",
    "    df_snapshot.dropna(inplace=True)\n",
    "    return df_snapshot"
   ]
  },
  {
   "cell_type": "code",
   "execution_count": 76,
   "metadata": {},
   "outputs": [
    {
     "data": {},
     "execution_count": 76,
     "metadata": {},
     "output_type": "execute_result"
    }
   ],
   "source": [
    "# Test the function\n",
    "time_snapshot = datetime.datetime(2010, 12, 9)\n",
    "df_snap = snap_shot_month(df, time_snapshot)\n",
    "df_snap"
   ]
  },
  {
   "cell_type": "code",
   "execution_count": 35,
   "metadata": {},
   "outputs": [],
   "source": [
    "# Function to get the first days of each month between two dates\n",
    "def get_first_days_of_months(start_date, end_date):\n",
    "    # List to store the first days of each month\n",
    "    first_days = []\n",
    "    \n",
    "    # Start from the first day of the start date's month\n",
    "    current_date = start_date.replace(day=1)\n",
    "    \n",
    "    # Loop until the current_date is past the end_date\n",
    "    while current_date <= end_date:\n",
    "        first_days.append(current_date)\n",
    "        current_date += relativedelta(months=1)  # Add one month\n",
    "        \n",
    "    return first_days"
   ]
  },
  {
   "cell_type": "code",
   "execution_count": 36,
   "metadata": {},
   "outputs": [],
   "source": [
    "# Function to get all snapshots of the data at a given time in the past\n",
    "\n",
    "def snap_shot_all(df: pd.DataFrame,  time_shot: int = 1) -> pd.DataFrame:\n",
    "    \n",
    "    # Get time snapshots\n",
    "    time_snapshots = df['InvoiceDate'].unique()\n",
    "    time_min = time_snapshots.min().date()\n",
    "    time_max = time_snapshots.max().date()\n",
    "\n",
    "    # Create the beginning and ending time of the snapshots\n",
    "    time_begin = pd.to_datetime(time_min.replace(day=1) + relativedelta(months=time_shot))\n",
    "    time_end = pd.to_datetime(time_max.replace(day=1)+ relativedelta(months=time_shot))\n",
    "\n",
    "    # Get the first days of each month between the beginning and ending time \n",
    "    first_days = get_first_days_of_months(time_begin, time_end)\n",
    "\n",
    "    # Create a new Dataframe to store the snapshot of the data  \n",
    "    df_snapshot_all = pd.DataFrame(columns=['customer_id', 'total_successful_amount_past_1_month', 'num_successful_orders_past_1_month', 'time_snapshot'])\n",
    "\n",
    "    # Get the snapshot of the data at each time in the past\n",
    "    for time_snapshot in first_days:\n",
    "        df_snapshot = snap_shot_month(df, time_snapshot, time_shot=time_shot)\n",
    "        df_snapshot_all = pd.concat([df_snapshot_all, df_snapshot], ignore_index=True) if df_snapshot_all.shape[0] > 0 else df_snapshot\n",
    "    \n",
    "    return df_snapshot_all"
   ]
  },
  {
   "cell_type": "code",
   "execution_count": 37,
   "metadata": {},
   "outputs": [
    {
     "data": {},
     "execution_count": 37,
     "metadata": {},
     "output_type": "execute_result"
    }
   ],
   "source": [
    "snap_shot_all(df)"
   ]
  },
  {
   "cell_type": "markdown",
   "metadata": {},
   "source": [
    "# Function looking back to the past and looking forward the future"
   ]
  },
  {
   "cell_type": "code",
   "execution_count": 38,
   "metadata": {},
   "outputs": [],
   "source": [
    "def snapshot_past_month_begin(df: pd.DataFrame, time_snapshot: datetime.datetime, time_shot: int = 1) -> pd.DataFrame:\n",
    "\n",
    "    # Get list of unique customers until the time_snapshot\n",
    "    customers_until_time_snapshot = df[df['InvoiceDate'] < time_snapshot]['CustomerID'].dropna().unique()\n",
    "\n",
    "    # Filter the data to get the snapshot of one month\n",
    "    df_filter = df[(df['InvoiceDate'] > time_snapshot - relativedelta(months=time_shot)) & (df['InvoiceDate'] <= time_snapshot- relativedelta(months=time_shot-1))]\n",
    "\n",
    "    # Create a new column to store the total amount of each transaction\n",
    "    df_filter['total_amount'] = df_filter['Quantity'] * df_filter['UnitPrice']  \n",
    "\n",
    "    # Create a new Dataframe to store the snapshot of the data  \n",
    "    df_snapshot = pd.DataFrame(columns=['customer_id', 'total_successful_amount_past_1_month', 'num_successful_orders_past_1_month'])\n",
    "\n",
    "    # List of all customers in the filtered data\n",
    "    lst_customer_filter = df_filter['CustomerID'].unique()\n",
    "\n",
    "    # Get all the customer before the time snapshot-time_shot\n",
    "    customers_until_past_timeshot = df[(df['InvoiceDate'] < time_snapshot - relativedelta(months=time_shot))][\"CustomerID\"].unique()\n",
    "    \n",
    "  \n",
    "    # Customers who have successful orders during the time_snapshot-time_shot\n",
    "    df_snapshot = pd.DataFrame(columns=['customer_id', f'total_successful_amount_past_{time_shot}_month', f'num_successful_orders_past_{time_shot}_month'])\n",
    "    df_filter_agg = df_filter.groupby('CustomerID').aggregate({'total_amount': 'sum', 'InvoiceDate': 'count'}).reset_index()\n",
    "    df_filter_agg.rename(columns={'CustomerID':'customer_id', 'InvoiceDate': f'num_successful_orders_past_{time_shot}_month', 'total_amount': f'total_successful_amount_past_{time_shot}_month'}, inplace=True)\n",
    "    df_snapshot = pd.concat([df_snapshot, df_filter_agg], ignore_index=True) if df_snapshot.shape[0] > 0 else df_filter_agg\n",
    "\n",
    "\n",
    "    # Customers who have successful orders in the past of the time_snapshot-time_shot but have no successful orders in the filtered data\n",
    "    df_successful_order = pd.DataFrame(columns=['customer_id', f'total_successful_amount_past_{time_shot}_month', f'num_successful_orders_past_{time_shot}_month'])\n",
    "    lst_no_orders = [customer_id for customer_id in customers_until_time_snapshot if (customer_id not in lst_customer_filter) & (customer_id in customers_until_past_timeshot)]    \n",
    "    df_successful_order['customer_id'] = lst_no_orders\n",
    "    df_successful_order.fillna(0, inplace=True)\n",
    "\n",
    "    # Customers who have no successful orders in the past of the time_snapshot-time_shot\n",
    "    df_no_information = pd.DataFrame(columns=['customer_id', f'total_successful_amount_past_{time_shot}_month', f'num_successful_orders_past_{time_shot}_month'])\n",
    "    lst_no_information = [customer_id for customer_id in customers_until_time_snapshot if (customer_id not in lst_customer_filter) & (customer_id not in customers_until_past_timeshot)]\n",
    "    df_no_information['customer_id'] = lst_no_information\n",
    "    \n",
    "\n",
    "    df_snapshot = pd.concat([df_snapshot, df_successful_order, df_no_information], ignore_index=True) if df_snapshot.shape[0] > 0 else pd.concat([df_successful_order, df_no_information], ignore_index=True)\n",
    "\n",
    "    # Add the time_snapshot to the snapshot dataframe\n",
    "    df_snapshot['time_snapshot'] = time_snapshot    \n",
    "\n",
    "    return df_snapshot"
   ]
  },
  {
   "cell_type": "code",
   "execution_count": 84,
   "metadata": {},
   "outputs": [
    {
     "data": {},
     "execution_count": 84,
     "metadata": {},
     "output_type": "execute_result"
    }
   ],
   "source": [
    "# Test the functionq\n",
    "time_snapshot = datetime.datetime(2011, 12, 9)\n",
    "df_past = snapshot_past_month_begin(df, time_snapshot, time_shot=2)\n",
    "df_past"
   ]
  },
  {
   "cell_type": "code",
   "execution_count": 40,
   "metadata": {},
   "outputs": [],
   "source": [
    "def snapshot_future_month_begin(df: pd.DataFrame, time_snapshot: datetime.datetime, time_shot: int = 1) -> pd.DataFrame:\n",
    "\n",
    "    # Get list of unique customers until the time_snapshot\n",
    "    customers_until_time_snapshot = df[df['InvoiceDate'] < time_snapshot]['CustomerID'].dropna().unique()    \n",
    "\n",
    "    # Filter the data to get the snapshot of one month\n",
    "    df_filter = df[(df['InvoiceDate'] > time_snapshot + relativedelta(months=time_shot-1)) & (df['InvoiceDate'] <= time_snapshot + relativedelta(months=time_shot))]\n",
    "    df_filter = df_filter[df_filter.CustomerID.isin(customers_until_time_snapshot)]\n",
    "    \n",
    "    # Maximal date of the data\n",
    "    max_date = df['InvoiceDate'].max()\n",
    "    # Check if snapshot time is in the time frame of data or not\n",
    "    if time_snapshot + relativedelta(months=time_shot-1) < max_date:\n",
    "\n",
    "        # Create a new column to store the total amount of each transaction\n",
    "        df_filter['total_amount'] = df_filter['Quantity'] * df_filter['UnitPrice']  \n",
    "\n",
    "        # Create a new Dataframe to store the snapshot of the data  \n",
    "        df_snapshot = pd.DataFrame(columns=['customer_id', f'total_successful_amount_future_{time_shot}_month', f'num_successful_orders_future_{time_shot}_month'])\n",
    "\n",
    "        # List of all customers in the filtered data\n",
    "        lst_customer_filter = df_filter['CustomerID'].unique()\n",
    "\n",
    "    \n",
    "        df_snapshot = pd.DataFrame(columns=['customer_id', f'total_successful_amount_future_{time_shot}_month', f'num_successful_orders_future_{time_shot}_month'])\n",
    "        df_filter_agg = df_filter.groupby('CustomerID').aggregate({'total_amount': 'sum', 'InvoiceDate': 'count'}).reset_index()\n",
    "        df_filter_agg.rename(columns={'CustomerID':'customer_id', 'InvoiceDate': f'num_successful_orders_future_{time_shot}_month', 'total_amount': f'total_successful_amount_future_{time_shot}_month'}, inplace=True)\n",
    "        df_snapshot = pd.concat([df_snapshot, df_filter_agg], ignore_index=True) if df_snapshot.shape[0] > 0 else df_filter_agg\n",
    "        \n",
    "        # Customers who have  have no successful orders in the filtered data\n",
    "        df_successful_order = pd.DataFrame(columns=['customer_id', f'total_successful_amount_future_{time_shot}_month', f'num_successful_orders_future_{time_shot}_month'])\n",
    "        lst_no_orders = [customer_id for customer_id in customers_until_time_snapshot if (customer_id not in lst_customer_filter)]    \n",
    "        df_successful_order['customer_id'] = lst_no_orders\n",
    "        df_successful_order.fillna(0, inplace=True)\n",
    "\n",
    "        df_snapshot = pd.concat([df_snapshot, df_successful_order], ignore_index=True) if df_snapshot.shape[0] > 0 else df_successful_order\n",
    "\n",
    "        # Add the time_snapshot to the snapshot dataframe\n",
    "            \n",
    "    else: # Fill data with NaN\n",
    "        df_snapshot = pd.DataFrame(columns=['customer_id', f'total_successful_amount_future_{time_shot}_month', f'num_successful_orders_future_{time_shot}_month', 'time_snapshot'])\n",
    "        df_snapshot['customer_id'] = customers_until_time_snapshot \n",
    "\n",
    "    df_snapshot['time_snapshot'] = time_snapshot\n",
    "    return df_snapshot"
   ]
  },
  {
   "cell_type": "code",
   "execution_count": 71,
   "metadata": {},
   "outputs": [
    {
     "name": "stdout",
     "output_type": "stream",
     "text": []
    }
   ],
   "source": [
    "# Test the function\n",
    "time_snapshot = datetime.datetime(2011, 1, 1)\n",
    "snapshot_future_month_begin(df, time_snapshot, time_shot=1).info()"
   ]
  },
  {
   "cell_type": "code",
   "execution_count": 43,
   "metadata": {},
   "outputs": [],
   "source": [
    "# Function to that have snapshot_time as input and return the snapshot of the data from the past and the future\n",
    "## Input\n",
    "##      df: the original data\n",
    "##      snapshot_time: the time of the snapshot\n",
    "##      past_time_shot: the number of time_spots of the snapshot in the past (1 month ago, 2 months ago, 3 months ago, etc.)\n",
    "##      future_time_shot: the number of time_spots of the snapshot in the future (1 month later, 2 months later, 3 months later, etc.)\n",
    "## Output\n",
    "##      df_snapshot: the snapshot of the data at the given time in the past and the future. The duration of the snapshot is one month\n",
    "##                   The snapshot includes the total amount of successful orders and the number of successful orders for each customer\n",
    "\n",
    "\n",
    "def snap_shot_past_future(df: pd.DataFrame, snapshot_time: datetime.datetime, past_time_shot: int = 2, future_time_shot: int = 2) -> pd.DataFrame:\n",
    "    \n",
    "    # Get time snapshots\n",
    "    time_snapshots = df['InvoiceDate'].unique()\n",
    "    time_min = time_snapshots.min().date()\n",
    "    time_max = time_snapshots.max().date()\n",
    "    time_min_snapshot = pd.to_datetime(time_min.replace(day=1))\n",
    "    time_max_snapshot = pd.to_datetime(time_max.replace(day=1)) + relativedelta(months=1)\n",
    "\n",
    "    # Get the snapshot of the data in the past at the snapshot_time\n",
    "    df_past= snapshot_past_month_begin(df, snapshot_time, time_shot=1) # Get the snapshot one month ago\n",
    "\n",
    "    # Loop to get the snapshots of the data in the past at the snapshot_time\n",
    "    for i in range(2, past_time_shot+1):\n",
    "        df_past_temp = snapshot_past_month_begin(df, snapshot_time, time_shot=i) # Get the snapshot i months ago\n",
    "        df_past_temp.drop(columns=['time_snapshot'], inplace=True) # Drop the time_snapshot column\n",
    "        #df_past_temp.rename(columns={'total_successful_amount_past_1_month': f'total_successful_amount_past_{i}_month', 'num_successful_orders_past_1_month': f'num_successful_orders_past_{i}_month'}, inplace=True) # Rename the columns name\n",
    "        df_past = pd.merge(df_past_temp, df_past,  on='customer_id', how='right') # Merge the past snapshots on the customer_id\n",
    "\n",
    "       \n",
    "\n",
    "    # Loop to get the snapshots of the data in the future at the snapshot_time\n",
    "    for i in range(1, future_time_shot+1):\n",
    "        df_future_temp = snapshot_future_month_begin(df, snapshot_time,  time_shot=i) # Get the snapshot i months later\n",
    "        df_future_temp.drop(columns=['time_snapshot'], inplace=True) # Drop the time_snapshot column   \n",
    "        df_past = pd.merge(df_past, df_future_temp,  on='customer_id', how='left') # Merge the future snapshots on the customer_id\n",
    "\n",
    "    \n",
    "    # Reorder the columns snapshot_time to the end of the dataframe\n",
    "    col = df_past.pop('time_snapshot')\n",
    "    df_past['time_snapshot'] = col\n",
    "        \n",
    "    return df_past"
   ]
  },
  {
   "cell_type": "code",
   "execution_count": 44,
   "metadata": {},
   "outputs": [
    {
     "data": {},
     "execution_count": 44,
     "metadata": {},
     "output_type": "execute_result"
    }
   ],
   "source": [
    "# Test the function\n",
    "snap_shot_past_future(df, time_snapshot, past_time_shot=3, future_time_shot=3)"
   ]
  },
  {
   "cell_type": "code",
   "execution_count": 45,
   "metadata": {},
   "outputs": [],
   "source": [
    "def snap_shot_all_past_future(df: pd.DataFrame, time_shot=1, past_time_shot = 2, future_time_shot = 2) -> pd.DataFrame:\n",
    "    \n",
    "    # Get time snapshots\n",
    "    time_snapshots = df['InvoiceDate'].unique()\n",
    "    time_min = time_snapshots.min().date()\n",
    "    time_max = time_snapshots.max().date()\n",
    "\n",
    "    # Create the beginning and ending time of the snapshots\n",
    "    time_begin = pd.to_datetime(time_min.replace(day=1) + relativedelta(months=time_shot))\n",
    "    time_end = pd.to_datetime(time_max.replace(day=1)+ relativedelta(months=time_shot))\n",
    "\n",
    "    # Get the first days of each month between the beginning and ending time \n",
    "    first_days = get_first_days_of_months(time_begin, time_end)\n",
    "\n",
    "    # Create a new Dataframe to store the snapshot of the data  \n",
    "    df_snapshot_all = pd.DataFrame(columns=['customer_id', 'total_successful_amount_past_1_month', 'num_successful_orders_past_1_month', 'time_snapshot'])\n",
    "\n",
    "    # Get the snapshot of the data at each time in the past\n",
    "    for time_snapshot in first_days:\n",
    "        df_snapshot = snap_shot_past_future(df, time_snapshot, past_time_shot=past_time_shot, future_time_shot=future_time_shot)\n",
    "        df_snapshot_all = pd.concat([df_snapshot_all, df_snapshot], ignore_index=True) if df_snapshot_all.shape[0] > 0 else df_snapshot\n",
    "    \n",
    "    return df_snapshot_all"
   ]
  },
  {
   "cell_type": "code",
   "execution_count": 47,
   "metadata": {},
   "outputs": [
    {
     "data": {},
     "execution_count": 47,
     "metadata": {},
     "output_type": "execute_result"
    }
   ],
   "source": [
    "snap_shot_all_past_future(df, past_time_shot=3, future_time_shot=1)"
   ]
  },
  {
   "cell_type": "code",
   "execution_count": 48,
   "metadata": {},
   "outputs": [],
   "source": [
    "def data_pipeline(df: pd.DataFrame) -> pd.DataFrame:\n",
    "    return snap_shot_all_past_future(df, past_time_shot=4, future_time_shot=2)"
   ]
  },
  {
   "cell_type": "code",
   "execution_count": 49,
   "metadata": {},
   "outputs": [],
   "source": [
    "df_feature_mart = data_pipeline(df)"
   ]
  },
  {
   "cell_type": "code",
   "execution_count": 50,
   "metadata": {},
   "outputs": [],
   "source": [
    "output_file = 'd:/code/data/customer_behavior_eom_snapshot.csv'\n",
    "df_feature_mart.to_csv(output_file, index=False)"
   ]
  },
  {
   "cell_type": "code",
   "execution_count": 64,
   "metadata": {},
   "outputs": [
    {
     "data": {},
     "execution_count": 64,
     "metadata": {},
     "output_type": "execute_result"
    }
   ],
   "source": [
    "df_feature_mart[df_feature_mart.num_successful_orders_past_1_month==0]"
   ]
  },
  {
   "cell_type": "code",
   "execution_count": 65,
   "metadata": {},
   "outputs": [
    {
     "data": {},
     "execution_count": 65,
     "metadata": {},
     "output_type": "execute_result"
    }
   ],
   "source": [
    "df_feature_mart"
   ]
  }
 ],
 "metadata": {
  "kernelspec": {
   "display_name": "base",
   "language": "python",
   "name": "python3"
  },
  "language_info": {
   "codemirror_mode": {
    "name": "ipython",
    "version": 3
   },
   "file_extension": ".py",
   "mimetype": "text/x-python",
   "name": "python",
   "nbconvert_exporter": "python",
   "pygments_lexer": "ipython3",
   "version": "3.9.12"
  }
 },
 "nbformat": 4,
 "nbformat_minor": 2
}
