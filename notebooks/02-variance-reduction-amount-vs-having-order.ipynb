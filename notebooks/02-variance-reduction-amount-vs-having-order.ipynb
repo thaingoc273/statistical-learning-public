{
 "cells": [
  {
   "cell_type": "markdown",
   "metadata": {},
   "source": [
    "# Data\n",
    "- data.csv taken from Kaggle [here](https://www.kaggle.com/datasets/carrie1/ecommerce-data/data)\n",
    "- it is then stored in the folder `data/`"
   ]
  },
  {
   "cell_type": "markdown",
   "metadata": {},
   "source": [
    "# Problem\n",
    "- In this note, we create an example to illustrate the variance reduction technique and its usefullness\n",
    "\n",
    "Imagine we do an experiment with the company in Oct 2011 in UK. And we would like to do AB test. We hypothesize that the treatment will impact unit prices.\n",
    "However, we do analysis for orders in Sep 2011 and see that the average UnitPrice is 3.91 with variance ~ 2300!!\n",
    "\n",
    "So instead of using Unit Price to measure the effect of treatment, we use a cutoff version of Unit Price. For example, cutoff at the value 50.\n",
    "The variance of the new version is 14, which is ~ 160 times lower. Hence we need 160 times fewer samples for the experiment."
   ]
  },
  {
   "cell_type": "code",
   "execution_count": 54,
   "metadata": {},
   "outputs": [
    {
     "name": "stdout",
     "output_type": "stream",
     "text": [
      "ISO-8859-1\n"
     ]
    }
   ],
   "source": [
    "import chardet\n",
    "import pandas as pd\n",
    "\n",
    "# with open('../data/data.csv', 'rb') as f:\n",
    "#     result = chardet.detect(f.read())\n",
    "#     charenc = result['encoding']\n",
    "charenc = 'ISO-8859-1'\n",
    "print(charenc)\n",
    "df = pd.read_csv('../data/data.csv', encoding=charenc)"
   ]
  },
  {
   "cell_type": "code",
   "execution_count": 46,
   "metadata": {},
   "outputs": [
    {
     "data": {
      "text/html": [
       "<div>\n",
       "<style scoped>\n",
       "    .dataframe tbody tr th:only-of-type {\n",
       "        vertical-align: middle;\n",
       "    }\n",
       "\n",
       "    .dataframe tbody tr th {\n",
       "        vertical-align: top;\n",
       "    }\n",
       "\n",
       "    .dataframe thead th {\n",
       "        text-align: right;\n",
       "    }\n",
       "</style>\n",
       "<table border=\"1\" class=\"dataframe\">\n",
       "  <thead>\n",
       "    <tr style=\"text-align: right;\">\n",
       "      <th></th>\n",
       "      <th>InvoiceNo</th>\n",
       "      <th>StockCode</th>\n",
       "      <th>Description</th>\n",
       "      <th>Quantity</th>\n",
       "      <th>InvoiceDate</th>\n",
       "      <th>UnitPrice</th>\n",
       "      <th>CustomerID</th>\n",
       "      <th>Country</th>\n",
       "    </tr>\n",
       "  </thead>\n",
       "  <tbody>\n",
       "    <tr>\n",
       "      <th>0</th>\n",
       "      <td>536365</td>\n",
       "      <td>85123A</td>\n",
       "      <td>WHITE HANGING HEART T-LIGHT HOLDER</td>\n",
       "      <td>6</td>\n",
       "      <td>12/1/2010 8:26</td>\n",
       "      <td>2.55</td>\n",
       "      <td>17850.0</td>\n",
       "      <td>United Kingdom</td>\n",
       "    </tr>\n",
       "    <tr>\n",
       "      <th>1</th>\n",
       "      <td>536365</td>\n",
       "      <td>71053</td>\n",
       "      <td>WHITE METAL LANTERN</td>\n",
       "      <td>6</td>\n",
       "      <td>12/1/2010 8:26</td>\n",
       "      <td>3.39</td>\n",
       "      <td>17850.0</td>\n",
       "      <td>United Kingdom</td>\n",
       "    </tr>\n",
       "    <tr>\n",
       "      <th>2</th>\n",
       "      <td>536365</td>\n",
       "      <td>84406B</td>\n",
       "      <td>CREAM CUPID HEARTS COAT HANGER</td>\n",
       "      <td>8</td>\n",
       "      <td>12/1/2010 8:26</td>\n",
       "      <td>2.75</td>\n",
       "      <td>17850.0</td>\n",
       "      <td>United Kingdom</td>\n",
       "    </tr>\n",
       "    <tr>\n",
       "      <th>3</th>\n",
       "      <td>536365</td>\n",
       "      <td>84029G</td>\n",
       "      <td>KNITTED UNION FLAG HOT WATER BOTTLE</td>\n",
       "      <td>6</td>\n",
       "      <td>12/1/2010 8:26</td>\n",
       "      <td>3.39</td>\n",
       "      <td>17850.0</td>\n",
       "      <td>United Kingdom</td>\n",
       "    </tr>\n",
       "    <tr>\n",
       "      <th>4</th>\n",
       "      <td>536365</td>\n",
       "      <td>84029E</td>\n",
       "      <td>RED WOOLLY HOTTIE WHITE HEART.</td>\n",
       "      <td>6</td>\n",
       "      <td>12/1/2010 8:26</td>\n",
       "      <td>3.39</td>\n",
       "      <td>17850.0</td>\n",
       "      <td>United Kingdom</td>\n",
       "    </tr>\n",
       "    <tr>\n",
       "      <th>...</th>\n",
       "      <td>...</td>\n",
       "      <td>...</td>\n",
       "      <td>...</td>\n",
       "      <td>...</td>\n",
       "      <td>...</td>\n",
       "      <td>...</td>\n",
       "      <td>...</td>\n",
       "      <td>...</td>\n",
       "    </tr>\n",
       "    <tr>\n",
       "      <th>541904</th>\n",
       "      <td>581587</td>\n",
       "      <td>22613</td>\n",
       "      <td>PACK OF 20 SPACEBOY NAPKINS</td>\n",
       "      <td>12</td>\n",
       "      <td>12/9/2011 12:50</td>\n",
       "      <td>0.85</td>\n",
       "      <td>12680.0</td>\n",
       "      <td>France</td>\n",
       "    </tr>\n",
       "    <tr>\n",
       "      <th>541905</th>\n",
       "      <td>581587</td>\n",
       "      <td>22899</td>\n",
       "      <td>CHILDREN'S APRON DOLLY GIRL</td>\n",
       "      <td>6</td>\n",
       "      <td>12/9/2011 12:50</td>\n",
       "      <td>2.10</td>\n",
       "      <td>12680.0</td>\n",
       "      <td>France</td>\n",
       "    </tr>\n",
       "    <tr>\n",
       "      <th>541906</th>\n",
       "      <td>581587</td>\n",
       "      <td>23254</td>\n",
       "      <td>CHILDRENS CUTLERY DOLLY GIRL</td>\n",
       "      <td>4</td>\n",
       "      <td>12/9/2011 12:50</td>\n",
       "      <td>4.15</td>\n",
       "      <td>12680.0</td>\n",
       "      <td>France</td>\n",
       "    </tr>\n",
       "    <tr>\n",
       "      <th>541907</th>\n",
       "      <td>581587</td>\n",
       "      <td>23255</td>\n",
       "      <td>CHILDRENS CUTLERY CIRCUS PARADE</td>\n",
       "      <td>4</td>\n",
       "      <td>12/9/2011 12:50</td>\n",
       "      <td>4.15</td>\n",
       "      <td>12680.0</td>\n",
       "      <td>France</td>\n",
       "    </tr>\n",
       "    <tr>\n",
       "      <th>541908</th>\n",
       "      <td>581587</td>\n",
       "      <td>22138</td>\n",
       "      <td>BAKING SET 9 PIECE RETROSPOT</td>\n",
       "      <td>3</td>\n",
       "      <td>12/9/2011 12:50</td>\n",
       "      <td>4.95</td>\n",
       "      <td>12680.0</td>\n",
       "      <td>France</td>\n",
       "    </tr>\n",
       "  </tbody>\n",
       "</table>\n",
       "<p>541909 rows × 8 columns</p>\n",
       "</div>"
      ],
      "text/plain": [
       "       InvoiceNo StockCode                          Description  Quantity  \\\n",
       "0         536365    85123A   WHITE HANGING HEART T-LIGHT HOLDER         6   \n",
       "1         536365     71053                  WHITE METAL LANTERN         6   \n",
       "2         536365    84406B       CREAM CUPID HEARTS COAT HANGER         8   \n",
       "3         536365    84029G  KNITTED UNION FLAG HOT WATER BOTTLE         6   \n",
       "4         536365    84029E       RED WOOLLY HOTTIE WHITE HEART.         6   \n",
       "...          ...       ...                                  ...       ...   \n",
       "541904    581587     22613          PACK OF 20 SPACEBOY NAPKINS        12   \n",
       "541905    581587     22899         CHILDREN'S APRON DOLLY GIRL          6   \n",
       "541906    581587     23254        CHILDRENS CUTLERY DOLLY GIRL          4   \n",
       "541907    581587     23255      CHILDRENS CUTLERY CIRCUS PARADE         4   \n",
       "541908    581587     22138        BAKING SET 9 PIECE RETROSPOT          3   \n",
       "\n",
       "            InvoiceDate  UnitPrice  CustomerID         Country  \n",
       "0        12/1/2010 8:26       2.55     17850.0  United Kingdom  \n",
       "1        12/1/2010 8:26       3.39     17850.0  United Kingdom  \n",
       "2        12/1/2010 8:26       2.75     17850.0  United Kingdom  \n",
       "3        12/1/2010 8:26       3.39     17850.0  United Kingdom  \n",
       "4        12/1/2010 8:26       3.39     17850.0  United Kingdom  \n",
       "...                 ...        ...         ...             ...  \n",
       "541904  12/9/2011 12:50       0.85     12680.0          France  \n",
       "541905  12/9/2011 12:50       2.10     12680.0          France  \n",
       "541906  12/9/2011 12:50       4.15     12680.0          France  \n",
       "541907  12/9/2011 12:50       4.15     12680.0          France  \n",
       "541908  12/9/2011 12:50       4.95     12680.0          France  \n",
       "\n",
       "[541909 rows x 8 columns]"
      ]
     },
     "execution_count": 46,
     "metadata": {},
     "output_type": "execute_result"
    }
   ],
   "source": [
    "df"
   ]
  },
  {
   "cell_type": "code",
   "execution_count": 55,
   "metadata": {},
   "outputs": [],
   "source": [
    "# remove rows with UnitPrice<=0\n",
    "df=df[df['UnitPrice']>0]"
   ]
  },
  {
   "cell_type": "code",
   "execution_count": 56,
   "metadata": {},
   "outputs": [],
   "source": [
    "# format the column `InvoiceDate` to 'YYYY-MM-DD HH:MM:SS'\n",
    "df['InvoiceDate'] = pd.to_datetime(df['InvoiceDate'])\n",
    "df['InvoiceDate'] = df['InvoiceDate'].dt.strftime('%Y-%m-%d %H:%M:%S')\n",
    "\n"
   ]
  },
  {
   "cell_type": "code",
   "execution_count": 59,
   "metadata": {},
   "outputs": [
    {
     "name": "stdout",
     "output_type": "stream",
     "text": [
      "       InvoiceNo StockCode                         Description  Quantity  \\\n",
      "320705    565080     20677                  PINK POLKADOT BOWL         8   \n",
      "320706    565080     22128          PARTY CONES CANDY ASSORTED        24   \n",
      "320708    565082     22423            REGENCY CAKESTAND 3 TIER         2   \n",
      "320709    565082    15060B          FAIRY CAKE DESIGN UMBRELLA         8   \n",
      "320710    565082     23245          SET OF 3 REGENCY CAKE TINS         4   \n",
      "...          ...       ...                                 ...       ...   \n",
      "370926    569202     22486                   PLASMATRONIC LAMP         1   \n",
      "370927    569202     22495      SET OF 2 ROUND TINS CAMEMBERT          1   \n",
      "370928    569202     22539              MINI JIGSAW DOLLY GIRL         2   \n",
      "370929    569202     22540          MINI JIGSAW CIRCUS PARADE          2   \n",
      "370930    569202     22805  BLUE DRAWER KNOB ACRYLIC EDWARDIAN        10   \n",
      "\n",
      "                InvoiceDate  UnitPrice  CustomerID         Country  \n",
      "320705  2011-09-01 08:25:00       1.25     13509.0  United Kingdom  \n",
      "320706  2011-09-01 08:25:00       1.25     13509.0  United Kingdom  \n",
      "320708  2011-09-01 09:15:00      12.75     13305.0  United Kingdom  \n",
      "320709  2011-09-01 09:15:00       3.75     13305.0  United Kingdom  \n",
      "320710  2011-09-01 09:15:00       4.95     13305.0  United Kingdom  \n",
      "...                     ...        ...         ...             ...  \n",
      "370926  2011-09-30 17:22:00       8.29         NaN  United Kingdom  \n",
      "370927  2011-09-30 17:22:00       5.79         NaN  United Kingdom  \n",
      "370928  2011-09-30 17:22:00       0.83         NaN  United Kingdom  \n",
      "370929  2011-09-30 17:22:00       0.83         NaN  United Kingdom  \n",
      "370930  2011-09-30 17:22:00       1.25         NaN  United Kingdom  \n",
      "\n",
      "[45373 rows x 8 columns]\n"
     ]
    }
   ],
   "source": [
    "# write a code to compute the average order amount of orders in Sep 2011, the column amount is `UnitPrice`, the column time is `InvoiceDate`, we focus on Country `United Kingdom` only\n",
    "df_orders = df[(df['InvoiceDate']>'2011-09-01') & (df['InvoiceDate']<'2011-10-01') & (df['Country']=='United Kingdom')].copy()\n",
    "\n",
    "print(df_orders)"
   ]
  },
  {
   "cell_type": "code",
   "execution_count": 61,
   "metadata": {},
   "outputs": [
    {
     "name": "stdout",
     "output_type": "stream",
     "text": [
      "Average order value in Sep 2011 is 3.91. Number of orders: 45373\n",
      "The variance is 2324.52\n"
     ]
    }
   ],
   "source": [
    "print(f\"Average order value in Sep 2011 is {df_orders['UnitPrice'].mean():.2f}. Number of orders: {len(df_orders)}\")\n",
    "print(f\"The variance is {df_orders['UnitPrice'].var():.2f}\")"
   ]
  },
  {
   "cell_type": "code",
   "execution_count": 62,
   "metadata": {},
   "outputs": [
    {
     "name": "stdout",
     "output_type": "stream",
     "text": [
      "Average is 3.15. Number of orders: 45373\n",
      "The variance is 14.01\n",
      "So the variance is reduced 165.91 times.\n"
     ]
    }
   ],
   "source": [
    "# We use cut off Unitprice at value 50 (supposedly UK pounds). \n",
    "df_orders['UnitPrice_cutoff_50'] = df_orders['UnitPrice'].apply(lambda x: 50 if x>50 else x)\n",
    "print(f\"Average is {df_orders['UnitPrice_cutoff_50'].mean():.2f}. Number of orders: {len(df_orders)}\")\n",
    "print(f\"The variance is {df_orders['UnitPrice_cutoff_50'].var():.2f}\")\n",
    "# so the variance is reduced xxx times\n",
    "print(f\"So the variance is reduced {df_orders['UnitPrice'].var()/df_orders['UnitPrice_cutoff_50'].var():.2f} times.\")\n"
   ]
  },
  {
   "cell_type": "code",
   "execution_count": 63,
   "metadata": {},
   "outputs": [
    {
     "name": "stdout",
     "output_type": "stream",
     "text": [
      "Average order value in Aug 2011 is 5.03. Number of orders: 31007\n",
      "The variance is 9561.83\n",
      "Average is 3.28. Number of orders: 31007\n",
      "The variance is 17.62\n",
      "So the variance is reduced 542.65 times.\n"
     ]
    }
   ],
   "source": [
    "# data in Aug 2021\n",
    "df_orders = df[(df['InvoiceDate']>'2011-08-01') & (df['InvoiceDate']<'2011-09-01') & (df['Country']=='United Kingdom')].copy()\n",
    "print(f\"Average order value in Aug 2011 is {df_orders['UnitPrice'].mean():.2f}. Number of orders: {len(df_orders)}\")\n",
    "print(f\"The variance is {df_orders['UnitPrice'].var():.2f}\")\n",
    "\n",
    "df_orders['UnitPrice_cutoff_50'] = df_orders['UnitPrice'].apply(lambda x: 50 if x>50 else x)\n",
    "print(f\"Average is {df_orders['UnitPrice_cutoff_50'].mean():.2f}. Number of orders: {len(df_orders)}\")\n",
    "print(f\"The variance is {df_orders['UnitPrice_cutoff_50'].var():.2f}\")\n",
    "# so the variance is reduced xxx times\n",
    "print(f\"So the variance is reduced {df_orders['UnitPrice'].var()/df_orders['UnitPrice_cutoff_50'].var():.2f} times.\")\n"
   ]
  },
  {
   "cell_type": "code",
   "execution_count": null,
   "metadata": {},
   "outputs": [],
   "source": []
  }
 ],
 "metadata": {
  "kernelspec": {
   "display_name": ".venv",
   "language": "python",
   "name": "python3"
  },
  "language_info": {
   "codemirror_mode": {
    "name": "ipython",
    "version": 3
   },
   "file_extension": ".py",
   "mimetype": "text/x-python",
   "name": "python",
   "nbconvert_exporter": "python",
   "pygments_lexer": "ipython3",
   "version": "3.10.2"
  }
 },
 "nbformat": 4,
 "nbformat_minor": 2
}
